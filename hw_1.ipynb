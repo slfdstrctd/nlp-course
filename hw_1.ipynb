{
 "cells": [
  {
   "cell_type": "code",
   "execution_count": 1,
   "id": "initial_id",
   "metadata": {
    "collapsed": true,
    "ExecuteTime": {
     "end_time": "2023-09-21T19:53:06.088916400Z",
     "start_time": "2023-09-21T19:53:04.206884600Z"
    }
   },
   "outputs": [],
   "source": [
    "!pip install corus pandas nltk scikit-learn spacy -q"
   ]
  },
  {
   "cell_type": "code",
   "execution_count": 2,
   "outputs": [
    {
     "name": "stdout",
     "output_type": "stream",
     "text": [
      "\u001B[38;5;2m✔ Download and installation successful\u001B[0m\r\n",
      "You can now load the package via spacy.load('ru_core_news_sm')\r\n"
     ]
    }
   ],
   "source": [
    "!python3 -m spacy download ru_core_news_sm -q"
   ],
   "metadata": {
    "collapsed": false,
    "ExecuteTime": {
     "end_time": "2023-09-21T19:53:10.377100700Z",
     "start_time": "2023-09-21T19:53:06.091922900Z"
    }
   },
   "id": "167f1d9a1e6cefcf"
  },
  {
   "cell_type": "code",
   "execution_count": null,
   "outputs": [],
   "source": [
    "!wget -q \"https://github.com/yutkin/Lenta.Ru-News-Dataset/releases/download/v1.1/lenta-ru-news.csv.bz2\""
   ],
   "metadata": {
    "collapsed": false
   },
   "id": "bd7bfd96a683e094"
  },
  {
   "cell_type": "code",
   "execution_count": 2,
   "outputs": [],
   "source": [
    "random_state = 42"
   ],
   "metadata": {
    "collapsed": false,
    "ExecuteTime": {
     "end_time": "2023-09-21T19:56:28.634528200Z",
     "start_time": "2023-09-21T19:56:28.625967900Z"
    }
   },
   "id": "4bf0afc84d4524a3"
  },
  {
   "cell_type": "code",
   "execution_count": 3,
   "outputs": [
    {
     "data": {
      "text/plain": "'Бои у Сопоцкина и Друскеник закончились отступлением германцев. Неприятель, приблизившись с севера к Осовцу начал артиллерийскую борьбу с крепостью. В артиллерийском бою принимают участие тяжелые калибры. С раннего утра 14 сентября огонь достиг значительного напряжения. Попытка германской пехоты пробиться ближе к крепости отражена. В Галиции мы заняли Дембицу. Большая колонна, отступавшая по шоссе от Перемышля к Саноку, обстреливалась с высот нашей батареей и бежала, бросив парки, обоз и автомобили. Вылазки гарнизона Перемышля остаются безуспешными. При продолжающемся отступлении австрийцев обнаруживается полное перемешивание их частей, захватываются новые партии пленных, орудия и прочая материальная часть. На перевале Ужок мы разбили неприятельский отряд, взяли его артиллерию и много пленных и, продолжая преследовать, вступили в пределы Венгрии. «Русский инвалид», 16 сентября 1914 года.'"
     },
     "execution_count": 3,
     "metadata": {},
     "output_type": "execute_result"
    }
   ],
   "source": [
    "import re\n",
    "import nltk\n",
    "import spacy\n",
    "\n",
    "from corus import load_lenta2\n",
    "from nltk.corpus import stopwords\n",
    "from nltk.tokenize import word_tokenize\n",
    "\n",
    "path = 'lenta-ru-news.csv.bz2'\n",
    "records = load_lenta2(path)\n",
    "\n",
    "data = []\n",
    "for i in range(1000):\n",
    "    data.append(next(records).text)\n",
    "\n",
    "data[0]"
   ],
   "metadata": {
    "collapsed": false,
    "ExecuteTime": {
     "end_time": "2023-09-21T19:56:33.191623700Z",
     "start_time": "2023-09-21T19:56:31.868031300Z"
    }
   },
   "id": "60d797ae30a8860d"
  },
  {
   "cell_type": "code",
   "execution_count": 4,
   "outputs": [
    {
     "name": "stderr",
     "output_type": "stream",
     "text": [
      "[nltk_data] Downloading package punkt to /home/slfdstrctd/nltk_data...\n",
      "[nltk_data]   Package punkt is already up-to-date!\n",
      "[nltk_data] Downloading package stopwords to\n",
      "[nltk_data]     /home/slfdstrctd/nltk_data...\n",
      "[nltk_data]   Package stopwords is already up-to-date!\n"
     ]
    }
   ],
   "source": [
    "nltk.download('punkt')\n",
    "nltk.download('stopwords')\n",
    "nlp_lemm = spacy.load(\"ru_core_news_sm\", disable=['tok2vec', 'morphologizer', 'parser', 'attribute_ruler', 'ner']);"
   ],
   "metadata": {
    "collapsed": false,
    "ExecuteTime": {
     "end_time": "2023-09-21T19:56:34.655449500Z",
     "start_time": "2023-09-21T19:56:33.188073200Z"
    }
   },
   "id": "9634282bbdb99488"
  },
  {
   "cell_type": "code",
   "execution_count": 7,
   "outputs": [],
   "source": [
    "class TextProcessor:\n",
    "    def __init__(self):\n",
    "        self.lemmatizer = nlp_lemm\n",
    "        self.stop_words = set(stopwords.words('russian'))\n",
    "\n",
    "    def normalize(self, text):\n",
    "        text = re.sub(r'[^a-zA-Zа-яА-Я0-9\\s]', '', text)  # remove non-alphanumeric characters\n",
    "        text = re.sub(r'\\s+', ' ', text).strip()  # trim whitespace\n",
    "        return text.lower()\n",
    "\n",
    "    def tokenize(self, text):\n",
    "        return word_tokenize(text, language='russian')\n",
    "\n",
    "    def remove_stopwords(self, words):\n",
    "        return [word for word in words if word not in self.stop_words]\n",
    "    \n",
    "    def lemmatize(self, text):\n",
    "        doc = nlp_lemm(text)\n",
    "        return [token.lemma_ for token in doc]\n",
    "\n",
    "    def preprocess(self, text):\n",
    "        text_normalized = self.normalize(text)\n",
    "        words = self.tokenize(text_normalized)\n",
    "        stop_tokens = self.remove_stopwords(words)\n",
    "        processed_words = self.lemmatize(' '.join(stop_tokens))\n",
    "        return processed_words"
   ],
   "metadata": {
    "collapsed": false,
    "ExecuteTime": {
     "end_time": "2023-09-21T19:56:47.318633400Z",
     "start_time": "2023-09-21T19:56:47.315423400Z"
    }
   },
   "id": "cc0fc6f570e89c1f"
  },
  {
   "cell_type": "code",
   "execution_count": 8,
   "outputs": [],
   "source": [
    "processor = TextProcessor()"
   ],
   "metadata": {
    "collapsed": false,
    "ExecuteTime": {
     "end_time": "2023-09-21T19:56:47.816238700Z",
     "start_time": "2023-09-21T19:56:47.810085900Z"
    }
   },
   "id": "622367e989136a11"
  },
  {
   "cell_type": "code",
   "execution_count": 9,
   "outputs": [
    {
     "data": {
      "text/plain": "'бои у сопоцкина и друскеник закончились отступлением германцев неприятель приблизившись с севера к осовцу начал артиллерийскую борьбу с крепостью в артиллерийском бою принимают участие тяжелые калибры с раннего утра 14 сентября огонь достиг значительного напряжения попытка германской пехоты пробиться ближе к крепости отражена в галиции мы заняли дембицу большая колонна отступавшая по шоссе от перемышля к саноку обстреливалась с высот нашей батареей и бежала бросив парки обоз и автомобили вылазки гарнизона перемышля остаются безуспешными при продолжающемся отступлении австрийцев обнаруживается полное перемешивание их частей захватываются новые партии пленных орудия и прочая материальная часть на перевале ужок мы разбили неприятельский отряд взяли его артиллерию и много пленных и продолжая преследовать вступили в пределы венгрии русский инвалид 16 сентября 1914 года'"
     },
     "execution_count": 9,
     "metadata": {},
     "output_type": "execute_result"
    }
   ],
   "source": [
    "normalized_text = processor.normalize(data[0])\n",
    "normalized_text"
   ],
   "metadata": {
    "collapsed": false,
    "ExecuteTime": {
     "end_time": "2023-09-21T19:56:48.528189700Z",
     "start_time": "2023-09-21T19:56:48.506218400Z"
    }
   },
   "id": "bdf09c418ab830cd"
  },
  {
   "cell_type": "code",
   "execution_count": 10,
   "outputs": [
    {
     "data": {
      "text/plain": "['бои',\n 'у',\n 'сопоцкина',\n 'и',\n 'друскеник',\n 'закончились',\n 'отступлением',\n 'германцев',\n 'неприятель',\n 'приблизившись',\n 'с',\n 'севера',\n 'к',\n 'осовцу',\n 'начал',\n 'артиллерийскую',\n 'борьбу',\n 'с',\n 'крепостью',\n 'в',\n 'артиллерийском',\n 'бою',\n 'принимают',\n 'участие',\n 'тяжелые',\n 'калибры',\n 'с',\n 'раннего',\n 'утра',\n '14',\n 'сентября',\n 'огонь',\n 'достиг',\n 'значительного',\n 'напряжения',\n 'попытка',\n 'германской',\n 'пехоты',\n 'пробиться',\n 'ближе',\n 'к',\n 'крепости',\n 'отражена',\n 'в',\n 'галиции',\n 'мы',\n 'заняли',\n 'дембицу',\n 'большая',\n 'колонна',\n 'отступавшая',\n 'по',\n 'шоссе',\n 'от',\n 'перемышля',\n 'к',\n 'саноку',\n 'обстреливалась',\n 'с',\n 'высот',\n 'нашей',\n 'батареей',\n 'и',\n 'бежала',\n 'бросив',\n 'парки',\n 'обоз',\n 'и',\n 'автомобили',\n 'вылазки',\n 'гарнизона',\n 'перемышля',\n 'остаются',\n 'безуспешными',\n 'при',\n 'продолжающемся',\n 'отступлении',\n 'австрийцев',\n 'обнаруживается',\n 'полное',\n 'перемешивание',\n 'их',\n 'частей',\n 'захватываются',\n 'новые',\n 'партии',\n 'пленных',\n 'орудия',\n 'и',\n 'прочая',\n 'материальная',\n 'часть',\n 'на',\n 'перевале',\n 'ужок',\n 'мы',\n 'разбили',\n 'неприятельский',\n 'отряд',\n 'взяли',\n 'его',\n 'артиллерию',\n 'и',\n 'много',\n 'пленных',\n 'и',\n 'продолжая',\n 'преследовать',\n 'вступили',\n 'в',\n 'пределы',\n 'венгрии',\n 'русский',\n 'инвалид',\n '16',\n 'сентября',\n '1914',\n 'года']"
     },
     "execution_count": 10,
     "metadata": {},
     "output_type": "execute_result"
    }
   ],
   "source": [
    "tokens = processor.tokenize(normalized_text)\n",
    "tokens"
   ],
   "metadata": {
    "collapsed": false,
    "ExecuteTime": {
     "end_time": "2023-09-21T19:56:53.312547200Z",
     "start_time": "2023-09-21T19:56:53.287794400Z"
    }
   },
   "id": "39d08181c643a53b"
  },
  {
   "cell_type": "code",
   "execution_count": 11,
   "outputs": [
    {
     "data": {
      "text/plain": "'бои сопоцкина друскеник закончились отступлением германцев неприятель приблизившись севера осовцу начал артиллерийскую борьбу крепостью артиллерийском бою принимают участие тяжелые калибры раннего утра 14 сентября огонь достиг значительного напряжения попытка германской пехоты пробиться ближе крепости отражена галиции заняли дембицу большая колонна отступавшая шоссе перемышля саноку обстреливалась высот нашей батареей бежала бросив парки обоз автомобили вылазки гарнизона перемышля остаются безуспешными продолжающемся отступлении австрийцев обнаруживается полное перемешивание частей захватываются новые партии пленных орудия прочая материальная часть перевале ужок разбили неприятельский отряд взяли артиллерию пленных продолжая преследовать вступили пределы венгрии русский инвалид 16 сентября 1914 года'"
     },
     "execution_count": 11,
     "metadata": {},
     "output_type": "execute_result"
    }
   ],
   "source": [
    "tokens_stop = processor.remove_stopwords(tokens)\n",
    "' '.join(tokens_stop)"
   ],
   "metadata": {
    "collapsed": false,
    "ExecuteTime": {
     "end_time": "2023-09-21T19:56:55.205370700Z",
     "start_time": "2023-09-21T19:56:55.182676300Z"
    }
   },
   "id": "bbc62d31511b24a2"
  },
  {
   "cell_type": "code",
   "execution_count": 12,
   "outputs": [
    {
     "data": {
      "text/plain": "'бой сопоцкина друскеник закончиться отступление германец неприятель приблизиться север осовцу начал артиллерийский борьба крепость артиллерийский бой принимать участие тяжёлый калибр ранний утро 14 сентябрь огонь достигнуть значительный напряжение попытка германский пехота пробиться близкий крепость отразить галиции занять дембица большая колонна отступать шоссе перемышль саноку обстреливаться высота нашей батарея бежать бросить парки обоз автомобиль вылазка гарнизон перемышль оставаться безуспешный продолжаться отступление австриец обнаруживаться полный перемешивание часть захватываться новые партия пленный орудие прочий материальный часть перевал ужок разбить неприятельский отряд взять артиллерия пленный продолжать преследовать вступить предел венгрия русский инвалид 16 сентябрь 1914 год'"
     },
     "execution_count": 12,
     "metadata": {},
     "output_type": "execute_result"
    }
   ],
   "source": [
    "lemmas = processor.lemmatize(' '.join(tokens_stop))\n",
    "' '.join(lemmas)"
   ],
   "metadata": {
    "collapsed": false,
    "ExecuteTime": {
     "end_time": "2023-09-21T19:56:56.016499600Z",
     "start_time": "2023-09-21T19:56:55.992811600Z"
    }
   },
   "id": "c488afe1b89886c0"
  },
  {
   "cell_type": "code",
   "execution_count": 12,
   "outputs": [],
   "source": [],
   "metadata": {
    "collapsed": false,
    "ExecuteTime": {
     "end_time": "2023-09-21T19:53:24.818540700Z",
     "start_time": "2023-09-21T19:53:24.806968800Z"
    }
   },
   "id": "7cacdad7a6fd1c4f"
  }
 ],
 "metadata": {
  "kernelspec": {
   "display_name": "Python 3",
   "language": "python",
   "name": "python3"
  },
  "language_info": {
   "codemirror_mode": {
    "name": "ipython",
    "version": 2
   },
   "file_extension": ".py",
   "mimetype": "text/x-python",
   "name": "python",
   "nbconvert_exporter": "python",
   "pygments_lexer": "ipython2",
   "version": "2.7.6"
  }
 },
 "nbformat": 4,
 "nbformat_minor": 5
}
