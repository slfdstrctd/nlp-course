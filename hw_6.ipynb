{
  "cells": [
    {
      "cell_type": "code",
      "execution_count": 1,
      "id": "2cec8c72330c28dd",
      "metadata": {
        "ExecuteTime": {
          "end_time": "2023-11-06T14:22:59.460263900Z",
          "start_time": "2023-11-06T14:22:56.216806600Z"
        },
        "id": "2cec8c72330c28dd"
      },
      "outputs": [],
      "source": [
        "!pip install transformers[torch] datasets numpy scikit-learn -q"
      ]
    },
    {
      "cell_type": "code",
      "execution_count": 3,
      "id": "1819baa557dd27a3",
      "metadata": {
        "ExecuteTime": {
          "end_time": "2023-11-06T14:23:12.756156Z",
          "start_time": "2023-11-06T14:23:02.659062700Z"
        },
        "id": "1819baa557dd27a3"
      },
      "outputs": [],
      "source": [
        "import numpy as np\n",
        "from datasets import load_dataset\n",
        "from sklearn.metrics import accuracy_score\n",
        "from sklearn.metrics import precision_recall_fscore_support\n",
        "from transformers import AutoTokenizer, AutoModelForSequenceClassification, TrainingArguments, \\\n",
        "    Trainer"
      ]
    },
    {
      "cell_type": "code",
      "execution_count": 4,
      "id": "ad91d4c5d4436905",
      "metadata": {
        "ExecuteTime": {
          "end_time": "2023-11-06T14:23:14.016153800Z",
          "start_time": "2023-11-06T14:23:13.483464600Z"
        },
        "id": "ad91d4c5d4436905"
      },
      "outputs": [],
      "source": [
        "model_name = \"distilbert-base-uncased\"\n",
        "tokenizer = AutoTokenizer.from_pretrained(model_name)\n",
        "\n",
        "dataset_name = \"imdb\""
      ]
    },
    {
      "cell_type": "code",
      "execution_count": 5,
      "id": "b528405551a90308",
      "metadata": {
        "ExecuteTime": {
          "end_time": "2023-11-06T14:23:16.117255500Z",
          "start_time": "2023-11-06T14:23:14.458304500Z"
        },
        "colab": {
          "base_uri": "https://localhost:8080/",
          "height": 49,
          "referenced_widgets": [
            "aee6bb0783bc4e0fb15718f2123edbe8",
            "8f4e0ff973f4450a827dd2e4ea8aca10",
            "66284d1b36ad4da6bb7e00589ecc7b5d",
            "1653648d5fe244fcb0724168f0d910dd",
            "6cf4044ca80c4a26b1787125c589becd",
            "46568ec7a52e415eb34d651f9b810e5b",
            "bcdda27240bf439fa3a8288c7a439016",
            "1fcb6e3ed2994ffeb966e4caa01c5aaa",
            "eeaab0c0ba0847bd86c9c54570f41256",
            "b7174a7ecef54f06ad8402eb44500bfd",
            "5e0de4a953f647899ae100493cba37f8"
          ]
        },
        "id": "b528405551a90308",
        "outputId": "89f56333-31ad-4712-aef5-a51079ad513e"
      },
      "outputs": [
        {
          "output_type": "display_data",
          "data": {
            "text/plain": [
              "Map:   0%|          | 0/1000 [00:00<?, ? examples/s]"
            ],
            "application/vnd.jupyter.widget-view+json": {
              "version_major": 2,
              "version_minor": 0,
              "model_id": "aee6bb0783bc4e0fb15718f2123edbe8"
            }
          },
          "metadata": {}
        }
      ],
      "source": [
        "def tokenize_function(examples):\n",
        "    return tokenizer(examples[\"text\"], padding=True, truncation=True)\n",
        "\n",
        "\n",
        "train_dataset, eval_dataset = load_dataset(\"imdb\", split=[\"train\", \"test\"])\n",
        "\n",
        "train_dataset = train_dataset.shuffle(seed=42).select(\n",
        "    list(range(1000))\n",
        ")\n",
        "eval_dataset = eval_dataset.shuffle(seed=42).select(\n",
        "    list(range(1000))\n",
        ")\n",
        "\n",
        "train_dataset = train_dataset.map(tokenize_function, batched=True)\n",
        "eval_dataset = eval_dataset.map(tokenize_function, batched=True)\n",
        "\n",
        "train_dataset = train_dataset.remove_columns([\"text\"])\n",
        "eval_dataset = eval_dataset.remove_columns([\"text\"])\n",
        "\n",
        "train_dataset.set_format('torch', columns=['input_ids', 'attention_mask', 'label'])\n",
        "eval_dataset.set_format('torch', columns=['input_ids', 'attention_mask', 'label'])"
      ]
    },
    {
      "cell_type": "code",
      "execution_count": 6,
      "id": "f01d6219ca44ff3b",
      "metadata": {
        "ExecuteTime": {
          "end_time": "2023-11-06T14:23:19.251458300Z",
          "start_time": "2023-11-06T14:23:16.481700Z"
        },
        "colab": {
          "base_uri": "https://localhost:8080/"
        },
        "id": "f01d6219ca44ff3b",
        "outputId": "4b069eed-c411-4d5f-ed1e-d4f5a395c11e"
      },
      "outputs": [
        {
          "output_type": "stream",
          "name": "stderr",
          "text": [
            "Some weights of DistilBertForSequenceClassification were not initialized from the model checkpoint at distilbert-base-uncased and are newly initialized: ['pre_classifier.bias', 'pre_classifier.weight', 'classifier.weight', 'classifier.bias']\n",
            "You should probably TRAIN this model on a down-stream task to be able to use it for predictions and inference.\n"
          ]
        }
      ],
      "source": [
        "model = AutoModelForSequenceClassification.from_pretrained(model_name, num_labels=2).to('cuda')"
      ]
    },
    {
      "cell_type": "code",
      "execution_count": 7,
      "id": "21de8895b08efc25",
      "metadata": {
        "ExecuteTime": {
          "end_time": "2023-11-06T14:23:20.223009Z",
          "start_time": "2023-11-06T14:23:20.219017700Z"
        },
        "id": "21de8895b08efc25"
      },
      "outputs": [],
      "source": [
        "def compute_metrics(eval_pred):\n",
        "    predictions, labels = eval_pred\n",
        "    predictions = np.argmax(predictions, axis=1)\n",
        "\n",
        "    precision, recall, f1, _ = precision_recall_fscore_support(labels, predictions, average='binary')\n",
        "    acc = accuracy_score(labels, predictions)\n",
        "\n",
        "    return {\n",
        "        'accuracy': acc,\n",
        "        'f1': f1,\n",
        "        'precision': precision,\n",
        "        'recall': recall,\n",
        "    }"
      ]
    },
    {
      "cell_type": "code",
      "execution_count": 8,
      "id": "1d366ffa3da02abf",
      "metadata": {
        "ExecuteTime": {
          "end_time": "2023-11-06T14:28:17.974458Z",
          "start_time": "2023-11-06T14:28:17.941451300Z"
        },
        "id": "1d366ffa3da02abf"
      },
      "outputs": [],
      "source": [
        "training_args = TrainingArguments(\n",
        "    output_dir=\"./results\",\n",
        "    num_train_epochs=3,\n",
        "    per_device_train_batch_size=8,\n",
        "    per_device_eval_batch_size=64,\n",
        "    logging_steps=100,\n",
        "    eval_steps=100\n",
        ")\n",
        "\n",
        "trainer = Trainer(\n",
        "    model=model,\n",
        "    args=training_args,\n",
        "    train_dataset=train_dataset,\n",
        "    eval_dataset=eval_dataset,\n",
        "    compute_metrics=compute_metrics\n",
        ")"
      ]
    },
    {
      "cell_type": "code",
      "execution_count": 9,
      "id": "42a60d2bbd50b4ac",
      "metadata": {
        "ExecuteTime": {
          "end_time": "2023-11-06T14:28:18.412770300Z",
          "start_time": "2023-11-06T14:28:18.405781900Z"
        },
        "colab": {
          "base_uri": "https://localhost:8080/"
        },
        "id": "42a60d2bbd50b4ac",
        "outputId": "feb1ba8f-69f2-4453-bdaa-59c6cc2ac688"
      },
      "outputs": [
        {
          "output_type": "execute_result",
          "data": {
            "text/plain": [
              "device(type='cuda', index=0)"
            ]
          },
          "metadata": {},
          "execution_count": 9
        }
      ],
      "source": [
        "training_args.device"
      ]
    },
    {
      "cell_type": "code",
      "execution_count": 10,
      "id": "439608f807189390",
      "metadata": {
        "ExecuteTime": {
          "end_time": "2023-11-06T14:29:04.870327100Z",
          "start_time": "2023-11-06T14:28:19.027486200Z"
        },
        "colab": {
          "base_uri": "https://localhost:8080/",
          "height": 37
        },
        "id": "439608f807189390",
        "outputId": "ee06cd23-1694-4825-b264-9ea64873e38f"
      },
      "outputs": [
        {
          "output_type": "display_data",
          "data": {
            "text/plain": [
              "<IPython.core.display.HTML object>"
            ],
            "text/html": [
              "\n",
              "    <div>\n",
              "      \n",
              "      <progress value='16' max='16' style='width:300px; height:20px; vertical-align: middle;'></progress>\n",
              "      [16/16 00:15]\n",
              "    </div>\n",
              "    "
            ]
          },
          "metadata": {}
        }
      ],
      "source": [
        "metrics_before_training = trainer.evaluate(eval_dataset=eval_dataset)"
      ]
    },
    {
      "cell_type": "code",
      "execution_count": 11,
      "id": "ff2a4f2df2e92c53",
      "metadata": {
        "ExecuteTime": {
          "end_time": "2023-11-06T14:29:04.877865600Z",
          "start_time": "2023-11-06T14:29:04.874334400Z"
        },
        "colab": {
          "base_uri": "https://localhost:8080/"
        },
        "id": "ff2a4f2df2e92c53",
        "outputId": "7fb32669-ee85-42ab-9354-553ade61dac9"
      },
      "outputs": [
        {
          "output_type": "stream",
          "name": "stdout",
          "text": [
            "Metrics before training:  {'eval_loss': 0.6927319765090942, 'eval_accuracy': 0.497, 'eval_f1': 0.4924318869828456, 'eval_precision': 0.4850894632206759, 'eval_recall': 0.5, 'eval_runtime': 16.8159, 'eval_samples_per_second': 59.467, 'eval_steps_per_second': 0.951}\n"
          ]
        }
      ],
      "source": [
        "print('Metrics before training: ', metrics_before_training)"
      ]
    },
    {
      "cell_type": "code",
      "execution_count": 12,
      "id": "3d93fd0f3cb57ced",
      "metadata": {
        "ExecuteTime": {
          "start_time": "2023-11-06T14:28:08.602365700Z"
        },
        "colab": {
          "base_uri": "https://localhost:8080/",
          "height": 206
        },
        "id": "3d93fd0f3cb57ced",
        "outputId": "8b876f5f-7b4e-414d-c7d4-632d5a00978b"
      },
      "outputs": [
        {
          "output_type": "display_data",
          "data": {
            "text/plain": [
              "<IPython.core.display.HTML object>"
            ],
            "text/html": [
              "\n",
              "    <div>\n",
              "      \n",
              "      <progress value='375' max='375' style='width:300px; height:20px; vertical-align: middle;'></progress>\n",
              "      [375/375 02:24, Epoch 3/3]\n",
              "    </div>\n",
              "    <table border=\"1\" class=\"dataframe\">\n",
              "  <thead>\n",
              " <tr style=\"text-align: left;\">\n",
              "      <th>Step</th>\n",
              "      <th>Training Loss</th>\n",
              "    </tr>\n",
              "  </thead>\n",
              "  <tbody>\n",
              "    <tr>\n",
              "      <td>100</td>\n",
              "      <td>0.498800</td>\n",
              "    </tr>\n",
              "    <tr>\n",
              "      <td>200</td>\n",
              "      <td>0.268400</td>\n",
              "    </tr>\n",
              "    <tr>\n",
              "      <td>300</td>\n",
              "      <td>0.128500</td>\n",
              "    </tr>\n",
              "  </tbody>\n",
              "</table><p>"
            ]
          },
          "metadata": {}
        },
        {
          "output_type": "execute_result",
          "data": {
            "text/plain": [
              "TrainOutput(global_step=375, training_loss=0.25956697845458987, metrics={'train_runtime': 145.0991, 'train_samples_per_second': 20.676, 'train_steps_per_second': 2.584, 'total_flos': 397402195968000.0, 'train_loss': 0.25956697845458987, 'epoch': 3.0})"
            ]
          },
          "metadata": {},
          "execution_count": 12
        }
      ],
      "source": [
        "trainer.train()"
      ]
    },
    {
      "cell_type": "code",
      "execution_count": 13,
      "id": "6427d5b7c53901e9",
      "metadata": {
        "ExecuteTime": {
          "end_time": "2023-11-06T14:25:58.399231400Z",
          "start_time": "2023-11-06T14:25:58.399231400Z"
        },
        "colab": {
          "base_uri": "https://localhost:8080/",
          "height": 75
        },
        "id": "6427d5b7c53901e9",
        "outputId": "17bc29f4-8142-468f-d741-863da48672b0"
      },
      "outputs": [
        {
          "output_type": "display_data",
          "data": {
            "text/plain": [
              "<IPython.core.display.HTML object>"
            ],
            "text/html": [
              "\n",
              "    <div>\n",
              "      \n",
              "      <progress value='32' max='16' style='width:300px; height:20px; vertical-align: middle;'></progress>\n",
              "      [16/16 02:58]\n",
              "    </div>\n",
              "    "
            ]
          },
          "metadata": {}
        },
        {
          "output_type": "stream",
          "name": "stdout",
          "text": [
            "{'eval_loss': 0.49094879627227783, 'eval_accuracy': 0.879, 'eval_f1': 0.8771573604060914, 'eval_precision': 0.869215291750503, 'eval_recall': 0.8852459016393442, 'eval_runtime': 16.8402, 'eval_samples_per_second': 59.382, 'eval_steps_per_second': 0.95, 'epoch': 3.0}\n"
          ]
        }
      ],
      "source": [
        "metrics = trainer.evaluate(eval_dataset=eval_dataset)\n",
        "print(metrics)"
      ]
    },
    {
      "cell_type": "code",
      "execution_count": 13,
      "id": "c3a5b5c3372da0fc",
      "metadata": {
        "id": "c3a5b5c3372da0fc"
      },
      "outputs": [],
      "source": []
    }
  ],
  "metadata": {
    "kernelspec": {
      "display_name": "Python 3",
      "name": "python3"
    },
    "language_info": {
      "codemirror_mode": {
        "name": "ipython",
        "version": 2
      },
      "file_extension": ".py",
      "mimetype": "text/x-python",
      "name": "python",
      "nbconvert_exporter": "python",
      "pygments_lexer": "ipython2",
      "version": "2.7.6"
    },
    "colab": {
      "provenance": [],
      "gpuType": "T4"
    },
    "accelerator": "GPU",
    "widgets": {
      "application/vnd.jupyter.widget-state+json": {
        "aee6bb0783bc4e0fb15718f2123edbe8": {
          "model_module": "@jupyter-widgets/controls",
          "model_name": "HBoxModel",
          "model_module_version": "1.5.0",
          "state": {
            "_dom_classes": [],
            "_model_module": "@jupyter-widgets/controls",
            "_model_module_version": "1.5.0",
            "_model_name": "HBoxModel",
            "_view_count": null,
            "_view_module": "@jupyter-widgets/controls",
            "_view_module_version": "1.5.0",
            "_view_name": "HBoxView",
            "box_style": "",
            "children": [
              "IPY_MODEL_8f4e0ff973f4450a827dd2e4ea8aca10",
              "IPY_MODEL_66284d1b36ad4da6bb7e00589ecc7b5d",
              "IPY_MODEL_1653648d5fe244fcb0724168f0d910dd"
            ],
            "layout": "IPY_MODEL_6cf4044ca80c4a26b1787125c589becd"
          }
        },
        "8f4e0ff973f4450a827dd2e4ea8aca10": {
          "model_module": "@jupyter-widgets/controls",
          "model_name": "HTMLModel",
          "model_module_version": "1.5.0",
          "state": {
            "_dom_classes": [],
            "_model_module": "@jupyter-widgets/controls",
            "_model_module_version": "1.5.0",
            "_model_name": "HTMLModel",
            "_view_count": null,
            "_view_module": "@jupyter-widgets/controls",
            "_view_module_version": "1.5.0",
            "_view_name": "HTMLView",
            "description": "",
            "description_tooltip": null,
            "layout": "IPY_MODEL_46568ec7a52e415eb34d651f9b810e5b",
            "placeholder": "​",
            "style": "IPY_MODEL_bcdda27240bf439fa3a8288c7a439016",
            "value": "Map: 100%"
          }
        },
        "66284d1b36ad4da6bb7e00589ecc7b5d": {
          "model_module": "@jupyter-widgets/controls",
          "model_name": "FloatProgressModel",
          "model_module_version": "1.5.0",
          "state": {
            "_dom_classes": [],
            "_model_module": "@jupyter-widgets/controls",
            "_model_module_version": "1.5.0",
            "_model_name": "FloatProgressModel",
            "_view_count": null,
            "_view_module": "@jupyter-widgets/controls",
            "_view_module_version": "1.5.0",
            "_view_name": "ProgressView",
            "bar_style": "success",
            "description": "",
            "description_tooltip": null,
            "layout": "IPY_MODEL_1fcb6e3ed2994ffeb966e4caa01c5aaa",
            "max": 1000,
            "min": 0,
            "orientation": "horizontal",
            "style": "IPY_MODEL_eeaab0c0ba0847bd86c9c54570f41256",
            "value": 1000
          }
        },
        "1653648d5fe244fcb0724168f0d910dd": {
          "model_module": "@jupyter-widgets/controls",
          "model_name": "HTMLModel",
          "model_module_version": "1.5.0",
          "state": {
            "_dom_classes": [],
            "_model_module": "@jupyter-widgets/controls",
            "_model_module_version": "1.5.0",
            "_model_name": "HTMLModel",
            "_view_count": null,
            "_view_module": "@jupyter-widgets/controls",
            "_view_module_version": "1.5.0",
            "_view_name": "HTMLView",
            "description": "",
            "description_tooltip": null,
            "layout": "IPY_MODEL_b7174a7ecef54f06ad8402eb44500bfd",
            "placeholder": "​",
            "style": "IPY_MODEL_5e0de4a953f647899ae100493cba37f8",
            "value": " 1000/1000 [00:00&lt;00:00, 1026.86 examples/s]"
          }
        },
        "6cf4044ca80c4a26b1787125c589becd": {
          "model_module": "@jupyter-widgets/base",
          "model_name": "LayoutModel",
          "model_module_version": "1.2.0",
          "state": {
            "_model_module": "@jupyter-widgets/base",
            "_model_module_version": "1.2.0",
            "_model_name": "LayoutModel",
            "_view_count": null,
            "_view_module": "@jupyter-widgets/base",
            "_view_module_version": "1.2.0",
            "_view_name": "LayoutView",
            "align_content": null,
            "align_items": null,
            "align_self": null,
            "border": null,
            "bottom": null,
            "display": null,
            "flex": null,
            "flex_flow": null,
            "grid_area": null,
            "grid_auto_columns": null,
            "grid_auto_flow": null,
            "grid_auto_rows": null,
            "grid_column": null,
            "grid_gap": null,
            "grid_row": null,
            "grid_template_areas": null,
            "grid_template_columns": null,
            "grid_template_rows": null,
            "height": null,
            "justify_content": null,
            "justify_items": null,
            "left": null,
            "margin": null,
            "max_height": null,
            "max_width": null,
            "min_height": null,
            "min_width": null,
            "object_fit": null,
            "object_position": null,
            "order": null,
            "overflow": null,
            "overflow_x": null,
            "overflow_y": null,
            "padding": null,
            "right": null,
            "top": null,
            "visibility": null,
            "width": null
          }
        },
        "46568ec7a52e415eb34d651f9b810e5b": {
          "model_module": "@jupyter-widgets/base",
          "model_name": "LayoutModel",
          "model_module_version": "1.2.0",
          "state": {
            "_model_module": "@jupyter-widgets/base",
            "_model_module_version": "1.2.0",
            "_model_name": "LayoutModel",
            "_view_count": null,
            "_view_module": "@jupyter-widgets/base",
            "_view_module_version": "1.2.0",
            "_view_name": "LayoutView",
            "align_content": null,
            "align_items": null,
            "align_self": null,
            "border": null,
            "bottom": null,
            "display": null,
            "flex": null,
            "flex_flow": null,
            "grid_area": null,
            "grid_auto_columns": null,
            "grid_auto_flow": null,
            "grid_auto_rows": null,
            "grid_column": null,
            "grid_gap": null,
            "grid_row": null,
            "grid_template_areas": null,
            "grid_template_columns": null,
            "grid_template_rows": null,
            "height": null,
            "justify_content": null,
            "justify_items": null,
            "left": null,
            "margin": null,
            "max_height": null,
            "max_width": null,
            "min_height": null,
            "min_width": null,
            "object_fit": null,
            "object_position": null,
            "order": null,
            "overflow": null,
            "overflow_x": null,
            "overflow_y": null,
            "padding": null,
            "right": null,
            "top": null,
            "visibility": null,
            "width": null
          }
        },
        "bcdda27240bf439fa3a8288c7a439016": {
          "model_module": "@jupyter-widgets/controls",
          "model_name": "DescriptionStyleModel",
          "model_module_version": "1.5.0",
          "state": {
            "_model_module": "@jupyter-widgets/controls",
            "_model_module_version": "1.5.0",
            "_model_name": "DescriptionStyleModel",
            "_view_count": null,
            "_view_module": "@jupyter-widgets/base",
            "_view_module_version": "1.2.0",
            "_view_name": "StyleView",
            "description_width": ""
          }
        },
        "1fcb6e3ed2994ffeb966e4caa01c5aaa": {
          "model_module": "@jupyter-widgets/base",
          "model_name": "LayoutModel",
          "model_module_version": "1.2.0",
          "state": {
            "_model_module": "@jupyter-widgets/base",
            "_model_module_version": "1.2.0",
            "_model_name": "LayoutModel",
            "_view_count": null,
            "_view_module": "@jupyter-widgets/base",
            "_view_module_version": "1.2.0",
            "_view_name": "LayoutView",
            "align_content": null,
            "align_items": null,
            "align_self": null,
            "border": null,
            "bottom": null,
            "display": null,
            "flex": null,
            "flex_flow": null,
            "grid_area": null,
            "grid_auto_columns": null,
            "grid_auto_flow": null,
            "grid_auto_rows": null,
            "grid_column": null,
            "grid_gap": null,
            "grid_row": null,
            "grid_template_areas": null,
            "grid_template_columns": null,
            "grid_template_rows": null,
            "height": null,
            "justify_content": null,
            "justify_items": null,
            "left": null,
            "margin": null,
            "max_height": null,
            "max_width": null,
            "min_height": null,
            "min_width": null,
            "object_fit": null,
            "object_position": null,
            "order": null,
            "overflow": null,
            "overflow_x": null,
            "overflow_y": null,
            "padding": null,
            "right": null,
            "top": null,
            "visibility": null,
            "width": null
          }
        },
        "eeaab0c0ba0847bd86c9c54570f41256": {
          "model_module": "@jupyter-widgets/controls",
          "model_name": "ProgressStyleModel",
          "model_module_version": "1.5.0",
          "state": {
            "_model_module": "@jupyter-widgets/controls",
            "_model_module_version": "1.5.0",
            "_model_name": "ProgressStyleModel",
            "_view_count": null,
            "_view_module": "@jupyter-widgets/base",
            "_view_module_version": "1.2.0",
            "_view_name": "StyleView",
            "bar_color": null,
            "description_width": ""
          }
        },
        "b7174a7ecef54f06ad8402eb44500bfd": {
          "model_module": "@jupyter-widgets/base",
          "model_name": "LayoutModel",
          "model_module_version": "1.2.0",
          "state": {
            "_model_module": "@jupyter-widgets/base",
            "_model_module_version": "1.2.0",
            "_model_name": "LayoutModel",
            "_view_count": null,
            "_view_module": "@jupyter-widgets/base",
            "_view_module_version": "1.2.0",
            "_view_name": "LayoutView",
            "align_content": null,
            "align_items": null,
            "align_self": null,
            "border": null,
            "bottom": null,
            "display": null,
            "flex": null,
            "flex_flow": null,
            "grid_area": null,
            "grid_auto_columns": null,
            "grid_auto_flow": null,
            "grid_auto_rows": null,
            "grid_column": null,
            "grid_gap": null,
            "grid_row": null,
            "grid_template_areas": null,
            "grid_template_columns": null,
            "grid_template_rows": null,
            "height": null,
            "justify_content": null,
            "justify_items": null,
            "left": null,
            "margin": null,
            "max_height": null,
            "max_width": null,
            "min_height": null,
            "min_width": null,
            "object_fit": null,
            "object_position": null,
            "order": null,
            "overflow": null,
            "overflow_x": null,
            "overflow_y": null,
            "padding": null,
            "right": null,
            "top": null,
            "visibility": null,
            "width": null
          }
        },
        "5e0de4a953f647899ae100493cba37f8": {
          "model_module": "@jupyter-widgets/controls",
          "model_name": "DescriptionStyleModel",
          "model_module_version": "1.5.0",
          "state": {
            "_model_module": "@jupyter-widgets/controls",
            "_model_module_version": "1.5.0",
            "_model_name": "DescriptionStyleModel",
            "_view_count": null,
            "_view_module": "@jupyter-widgets/base",
            "_view_module_version": "1.2.0",
            "_view_name": "StyleView",
            "description_width": ""
          }
        }
      }
    }
  },
  "nbformat": 4,
  "nbformat_minor": 5
}