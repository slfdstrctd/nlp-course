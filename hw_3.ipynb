{
 "cells": [
  {
   "cell_type": "code",
   "execution_count": 1,
   "outputs": [],
   "source": [
    "!pip install pandas numpy scikit-learn matplotlib -q"
   ],
   "metadata": {
    "collapsed": false,
    "ExecuteTime": {
     "end_time": "2023-10-10T14:00:33.857578400Z",
     "start_time": "2023-10-10T14:00:30.010287900Z"
    }
   },
   "id": "8fd111470d55a1b1"
  },
  {
   "cell_type": "code",
   "execution_count": 1,
   "outputs": [
    {
     "name": "stdout",
     "output_type": "stream",
     "text": [
      "\u001B[38;5;2m[+] Download and installation successful\u001B[0m\n",
      "You can now load the package via spacy.load('en_core_web_sm')\n"
     ]
    }
   ],
   "source": [
    "!python -m spacy download en_core_web_sm -q"
   ],
   "metadata": {
    "collapsed": false,
    "ExecuteTime": {
     "end_time": "2023-10-10T18:32:26.291389Z",
     "start_time": "2023-10-10T18:32:19.007863Z"
    }
   },
   "id": "c36733f166bfa9cd"
  },
  {
   "cell_type": "code",
   "execution_count": 1,
   "outputs": [],
   "source": [
    "import numpy as np\n",
    "import pandas as pd\n",
    "import spacy\n",
    "from gensim.models import Word2Vec, FastText\n",
    "from sklearn.linear_model import LogisticRegression\n",
    "from sklearn.metrics import accuracy_score\n",
    "from sklearn.model_selection import train_test_split"
   ],
   "metadata": {
    "collapsed": false,
    "ExecuteTime": {
     "end_time": "2023-10-11T14:26:55.525890600Z",
     "start_time": "2023-10-11T14:26:52.919380Z"
    }
   },
   "id": "a19d0c66ace6d559"
  },
  {
   "cell_type": "code",
   "execution_count": 7,
   "outputs": [],
   "source": [
    "class SpamClassifier:\n",
    "    def __init__(self, data_path, random_state=42):\n",
    "        self.y_test = None\n",
    "        self.y_train = None\n",
    "        self.X_test = None\n",
    "        self.X_train = None\n",
    "        self.y = None\n",
    "        self.X = None\n",
    "        self.data = pd.read_csv(data_path)\n",
    "        self.nlp = spacy.load(\"en_core_web_sm\")\n",
    "        self.random_state = random_state\n",
    "        self.vector_size = 256\n",
    "\n",
    "    def preprocess_data(self):\n",
    "        self.data.dropna(subset=['email'], inplace=True)\n",
    "\n",
    "        self.data['cleaned_text'] = self.data['email'].apply(\n",
    "            lambda x: [\n",
    "                token.lemma_.lower() for token in self.nlp(x) if\n",
    "                not token.is_stop\n",
    "                and not token.is_punct\n",
    "                and not token.is_digit\n",
    "                and not token.like_email\n",
    "                and not token.like_num\n",
    "                and not token.is_space\n",
    "            ]\n",
    "        )\n",
    "\n",
    "        self.X = self.data['cleaned_text']\n",
    "        self.y = self.data['label']\n",
    "\n",
    "    def split_data(self, test_size=0.2):\n",
    "        self.X_train, self.X_test, self.y_train, self.y_test = train_test_split(\n",
    "            self.X, self.y, test_size=test_size, random_state=self.random_state\n",
    "        )\n",
    "\n",
    "    def create_model(self, vectorization_method=\"Word2Vec\", sg=1):\n",
    "        if vectorization_method == 'Word2Vec':\n",
    "            model = Word2Vec(self.X_train,\n",
    "                             vector_size=256,\n",
    "                             window=7,\n",
    "                             min_count=10,\n",
    "                             sg=sg,\n",
    "                             hs=0,\n",
    "                             negative=5,\n",
    "                             epochs=25,\n",
    "                             seed=self.random_state)\n",
    "        elif vectorization_method == 'FastText':\n",
    "            model = FastText(self.X_train,\n",
    "                             vector_size=256,\n",
    "                             window=7,\n",
    "                             min_count=10,\n",
    "                             sg=sg,\n",
    "                             hs=0,\n",
    "                             negative=5,\n",
    "                             epochs=25,\n",
    "                             seed=self.random_state)\n",
    "        else:\n",
    "            raise ValueError(\"Invalid vectorization method. Choose from ['Word2Vec', 'FastText']\")\n",
    "        return model\n",
    "\n",
    "    def evaluate_model(self, model):\n",
    "        train_vectors = self.get_avg_word_vector(self.X_train, model)\n",
    "        test_vectors = self.get_avg_word_vector(self.X_test, model)\n",
    "\n",
    "        lr = LogisticRegression(random_state=self.random_state)\n",
    "        lr.fit(train_vectors, self.y_train)\n",
    "        y_pred_test = lr.predict(test_vectors)\n",
    "\n",
    "        accuracy_test = accuracy_score(self.y_test, y_pred_test)\n",
    "        return accuracy_test\n",
    "\n",
    "    def get_avg_word_vector(self, text, model):\n",
    "        zero_vector = np.zeros(self.vector_size)\n",
    "        vectors = []\n",
    "        for tokens in text:\n",
    "            sums = np.zeros(self.vector_size)\n",
    "            counts = 0 + 1e-5\n",
    "            for token in tokens:\n",
    "                if token in model.wv:\n",
    "                    sums += model.wv[token]\n",
    "                    counts += 1\n",
    "            if counts != 0:\n",
    "                vectors.append(sums / counts)\n",
    "            else:\n",
    "                vectors.append(zero_vector)\n",
    "        return vectors"
   ],
   "metadata": {
    "collapsed": false,
    "ExecuteTime": {
     "end_time": "2023-10-11T14:30:52.954517700Z",
     "start_time": "2023-10-11T14:30:52.942584600Z"
    }
   },
   "id": "d0b8cd54bd665cef"
  },
  {
   "cell_type": "code",
   "execution_count": 8,
   "outputs": [],
   "source": [
    "spam_classifier = SpamClassifier(data_path='spam_or_not_spam.csv', random_state=42)"
   ],
   "metadata": {
    "collapsed": false,
    "ExecuteTime": {
     "end_time": "2023-10-11T14:30:54.216998500Z",
     "start_time": "2023-10-11T14:30:53.777914300Z"
    }
   },
   "id": "1ed077a5fc7d2ccc"
  },
  {
   "cell_type": "code",
   "execution_count": 9,
   "outputs": [
    {
     "name": "stdout",
     "output_type": "stream",
     "text": [
      "CPU times: total: 21.6 s\n",
      "Wall time: 1min 11s\n"
     ]
    }
   ],
   "source": [
    "%%time\n",
    "spam_classifier.preprocess_data()"
   ],
   "metadata": {
    "collapsed": false,
    "ExecuteTime": {
     "end_time": "2023-10-11T14:32:06.465501100Z",
     "start_time": "2023-10-11T14:30:54.465121100Z"
    }
   },
   "id": "16f15c2d6741dd34"
  },
  {
   "cell_type": "code",
   "execution_count": 10,
   "outputs": [],
   "source": [
    "spam_classifier.split_data(0.2)"
   ],
   "metadata": {
    "collapsed": false,
    "ExecuteTime": {
     "end_time": "2023-10-11T14:32:06.470062400Z",
     "start_time": "2023-10-11T14:32:06.460224700Z"
    }
   },
   "id": "ffe73fd5b78916e5"
  },
  {
   "cell_type": "markdown",
   "source": [
    "## Word2Vec SG"
   ],
   "metadata": {
    "collapsed": false
   },
   "id": "1dae43d938f8a649"
  },
  {
   "cell_type": "code",
   "execution_count": 30,
   "outputs": [
    {
     "name": "stdout",
     "output_type": "stream",
     "text": [
      "Accuracy of test sample: 0.985\n"
     ]
    }
   ],
   "source": [
    "w2v_sg_model = spam_classifier.create_model(vectorization_method='Word2Vec', sg=1)\n",
    "print(\"Accuracy of test sample:\", spam_classifier.evaluate_model(w2v_sg_model))"
   ],
   "metadata": {
    "collapsed": false,
    "ExecuteTime": {
     "end_time": "2023-10-11T14:53:32.231836200Z",
     "start_time": "2023-10-11T14:53:19.664212100Z"
    }
   },
   "id": "4aa4c48df82341a4"
  },
  {
   "cell_type": "code",
   "execution_count": 31,
   "outputs": [
    {
     "data": {
      "text/plain": "[('hazardous', 0.5417191982269287),\n ('unwanted', 0.4414699375629425),\n ('destructive', 0.41856658458709717),\n ('prey', 0.4155874252319336),\n ('norton', 0.40235215425491333)]"
     },
     "execution_count": 31,
     "metadata": {},
     "output_type": "execute_result"
    }
   ],
   "source": [
    "w2v_sg_model.wv.most_similar(positive=['virus'], topn=5)"
   ],
   "metadata": {
    "collapsed": false,
    "ExecuteTime": {
     "end_time": "2023-10-11T14:53:32.231836200Z",
     "start_time": "2023-10-11T14:53:32.054635400Z"
    }
   },
   "id": "b8b0e4f5a5295039"
  },
  {
   "cell_type": "code",
   "execution_count": 34,
   "outputs": [
    {
     "data": {
      "text/plain": "'money'"
     },
     "execution_count": 34,
     "metadata": {},
     "output_type": "execute_result"
    }
   ],
   "source": [
    "w2v_sg_model.wv.doesnt_match(['buy', 'money', 'hacker', 'virus', 'linux'])"
   ],
   "metadata": {
    "collapsed": false,
    "ExecuteTime": {
     "end_time": "2023-10-11T14:54:01.086202500Z",
     "start_time": "2023-10-11T14:54:01.075093500Z"
    }
   },
   "id": "3fe17c4bc956a271"
  },
  {
   "cell_type": "code",
   "execution_count": 32,
   "outputs": [
    {
     "data": {
      "text/plain": "0.40045553"
     },
     "execution_count": 32,
     "metadata": {},
     "output_type": "execute_result"
    }
   ],
   "source": [
    "w2v_sg_model.wv.similarity('virus', 'hacker')"
   ],
   "metadata": {
    "collapsed": false,
    "ExecuteTime": {
     "end_time": "2023-10-11T14:53:32.232839300Z",
     "start_time": "2023-10-11T14:53:32.061009200Z"
    }
   },
   "id": "11e5f6a3c30c16f4"
  },
  {
   "cell_type": "markdown",
   "source": [
    "## Word2Vec CBOW"
   ],
   "metadata": {
    "collapsed": false
   },
   "id": "a37cb1e02127f3d0"
  },
  {
   "cell_type": "code",
   "execution_count": 28,
   "outputs": [
    {
     "name": "stdout",
     "output_type": "stream",
     "text": [
      "Accuracy of test sample: 0.9933333333333333\n"
     ]
    }
   ],
   "source": [
    "w2v_cbow_model = spam_classifier.create_model(vectorization_method='Word2Vec', sg=0)\n",
    "print(\"Accuracy of test sample:\", spam_classifier.evaluate_model(w2v_cbow_model))"
   ],
   "metadata": {
    "collapsed": false,
    "ExecuteTime": {
     "end_time": "2023-10-11T14:52:40.171576200Z",
     "start_time": "2023-10-11T14:52:36.245639900Z"
    }
   },
   "id": "fae70846c1dd14c0"
  },
  {
   "cell_type": "code",
   "execution_count": 18,
   "outputs": [
    {
     "data": {
      "text/plain": "[('prey', 0.670638382434845),\n ('destructive', 0.6245026588439941),\n ('hacker', 0.6128127574920654),\n ('computer', 0.5817774534225464),\n ('hazardous', 0.5692459344863892)]"
     },
     "execution_count": 18,
     "metadata": {},
     "output_type": "execute_result"
    }
   ],
   "source": [
    "w2v_cbow_model.wv.most_similar(positive=['virus'], topn=5)"
   ],
   "metadata": {
    "collapsed": false,
    "ExecuteTime": {
     "end_time": "2023-10-11T14:42:40.989949Z",
     "start_time": "2023-10-11T14:42:40.979406Z"
    }
   },
   "id": "72784200e2002d9e"
  },
  {
   "cell_type": "code",
   "execution_count": 33,
   "outputs": [
    {
     "data": {
      "text/plain": "'money'"
     },
     "execution_count": 33,
     "metadata": {},
     "output_type": "execute_result"
    }
   ],
   "source": [
    "w2v_cbow_model.wv.doesnt_match(['buy', 'money', 'hacker', 'virus', 'linux'])"
   ],
   "metadata": {
    "collapsed": false,
    "ExecuteTime": {
     "end_time": "2023-10-11T14:53:54.152637600Z",
     "start_time": "2023-10-11T14:53:54.141688600Z"
    }
   },
   "id": "63a7d2ea715c21a2"
  },
  {
   "cell_type": "code",
   "execution_count": 27,
   "outputs": [
    {
     "data": {
      "text/plain": "0.61281276"
     },
     "execution_count": 27,
     "metadata": {},
     "output_type": "execute_result"
    }
   ],
   "source": [
    "w2v_cbow_model.wv.similarity('virus', 'hacker')"
   ],
   "metadata": {
    "collapsed": false,
    "ExecuteTime": {
     "end_time": "2023-10-11T14:51:45.241413100Z",
     "start_time": "2023-10-11T14:51:45.227702200Z"
    }
   },
   "id": "175ac2748e5240c8"
  },
  {
   "cell_type": "markdown",
   "source": [
    "## FastText"
   ],
   "metadata": {
    "collapsed": false
   },
   "id": "c7d90f41c21868a4"
  },
  {
   "cell_type": "code",
   "execution_count": 29,
   "outputs": [
    {
     "name": "stdout",
     "output_type": "stream",
     "text": [
      "Accuracy of test sample: 0.985\n"
     ]
    }
   ],
   "source": [
    "fasttext_model = spam_classifier.create_model(vectorization_method='FastText', sg=1)\n",
    "print(\"Accuracy of test sample:\", spam_classifier.evaluate_model(fasttext_model))"
   ],
   "metadata": {
    "collapsed": false,
    "ExecuteTime": {
     "end_time": "2023-10-11T14:53:19.667211800Z",
     "start_time": "2023-10-11T14:52:46.407512400Z"
    }
   },
   "id": "419447185c8c900"
  },
  {
   "cell_type": "code",
   "execution_count": 19,
   "outputs": [
    {
     "data": {
      "text/plain": "[('hazardous', 0.5704951882362366),\n ('unwanted', 0.48871809244155884),\n ('hacker', 0.4587479531764984),\n ('valuable', 0.4294900596141815),\n ('norton', 0.40088531374931335)]"
     },
     "execution_count": 19,
     "metadata": {},
     "output_type": "execute_result"
    }
   ],
   "source": [
    "fasttext_model.wv.most_similar(positive=['virus'], topn=5)"
   ],
   "metadata": {
    "collapsed": false,
    "ExecuteTime": {
     "end_time": "2023-10-11T14:42:47.112955200Z",
     "start_time": "2023-10-11T14:42:47.102489900Z"
    }
   },
   "id": "c66c30efb267a333"
  },
  {
   "cell_type": "code",
   "execution_count": 22,
   "outputs": [
    {
     "data": {
      "text/plain": "'money'"
     },
     "execution_count": 22,
     "metadata": {},
     "output_type": "execute_result"
    }
   ],
   "source": [
    "fasttext_model.wv.doesnt_match(['buy', 'money', 'hacker', 'virus', 'linux'])"
   ],
   "metadata": {
    "collapsed": false,
    "ExecuteTime": {
     "end_time": "2023-10-11T14:49:06.485284500Z",
     "start_time": "2023-10-11T14:49:06.476250900Z"
    }
   },
   "id": "b4decf43c0561c07"
  },
  {
   "cell_type": "code",
   "execution_count": 26,
   "outputs": [
    {
     "data": {
      "text/plain": "0.45874798"
     },
     "execution_count": 26,
     "metadata": {},
     "output_type": "execute_result"
    }
   ],
   "source": [
    "fasttext_model.wv.similarity('virus', 'hacker')"
   ],
   "metadata": {
    "collapsed": false,
    "ExecuteTime": {
     "end_time": "2023-10-11T14:51:37.897133700Z",
     "start_time": "2023-10-11T14:51:37.879498500Z"
    }
   },
   "id": "d3170f3d835f0b21"
  },
  {
   "cell_type": "code",
   "execution_count": null,
   "outputs": [],
   "source": [],
   "metadata": {
    "collapsed": false
   },
   "id": "9aed116d6a4016bb"
  }
 ],
 "metadata": {
  "kernelspec": {
   "display_name": "Python 3",
   "language": "python",
   "name": "python3"
  },
  "language_info": {
   "codemirror_mode": {
    "name": "ipython",
    "version": 2
   },
   "file_extension": ".py",
   "mimetype": "text/x-python",
   "name": "python",
   "nbconvert_exporter": "python",
   "pygments_lexer": "ipython2",
   "version": "2.7.6"
  }
 },
 "nbformat": 4,
 "nbformat_minor": 5
}
