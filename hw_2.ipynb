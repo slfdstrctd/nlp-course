{
 "cells": [
  {
   "cell_type": "code",
   "execution_count": 8,
   "outputs": [],
   "source": [
    "!pip install pandas numpy scikit-learn matplotlib -q"
   ],
   "metadata": {
    "collapsed": false,
    "ExecuteTime": {
     "end_time": "2023-09-23T14:44:37.794063400Z",
     "start_time": "2023-09-23T14:44:36.054168800Z"
    }
   },
   "id": "8fd111470d55a1b1"
  },
  {
   "cell_type": "code",
   "execution_count": 51,
   "outputs": [
    {
     "name": "stdout",
     "output_type": "stream",
     "text": [
      "\u001B[38;5;2m[+] Download and installation successful\u001B[0m\n",
      "You can now load the package via spacy.load('en_core_web_sm')\n"
     ]
    }
   ],
   "source": [
    "!python -m spacy download en_core_web_sm -q"
   ],
   "metadata": {
    "collapsed": false,
    "ExecuteTime": {
     "end_time": "2023-09-23T15:49:32.612997800Z",
     "start_time": "2023-09-23T15:49:27.978802600Z"
    }
   },
   "id": "c36733f166bfa9cd"
  },
  {
   "cell_type": "code",
   "execution_count": null,
   "outputs": [],
   "source": [
    "import numpy as np\n",
    "import pandas as pd\n",
    "import spacy\n",
    "from sklearn.feature_extraction.text import CountVectorizer, TfidfVectorizer\n",
    "from sklearn.linear_model import LogisticRegression\n",
    "from sklearn.metrics import accuracy_score\n",
    "from sklearn.experimental import enable_halving_search_cv\n",
    "from sklearn.model_selection import HalvingGridSearchCV\n",
    "from sklearn.model_selection import train_test_split\n",
    "from sklearn.naive_bayes import MultinomialNB\n",
    "from sklearn.pipeline import Pipeline\n",
    "from sklearn.tree import DecisionTreeClassifier"
   ],
   "metadata": {
    "collapsed": false
   },
   "id": "a19d0c66ace6d559"
  },
  {
   "cell_type": "code",
   "execution_count": 89,
   "outputs": [],
   "source": [
    "class SpamClassifier:\n",
    "    def __init__(self, data_path, random_state=42):\n",
    "        self.y_test = None\n",
    "        self.y_train = None\n",
    "        self.X_test = None\n",
    "        self.X_train = None\n",
    "        self.y = None\n",
    "        self.X = None\n",
    "        self.data = pd.read_csv(data_path)\n",
    "        self.nlp = spacy.load(\"en_core_web_sm\")\n",
    "        self.random_state = random_state\n",
    "\n",
    "    def preprocess_data(self):\n",
    "        self.data.dropna(subset=['email'], inplace=True)\n",
    "\n",
    "        self.data['cleaned_text'] = self.data['email'].apply(\n",
    "            lambda x: ' '.join(\n",
    "                token.lemma_.lower() for token in self.nlp(x) if\n",
    "                not token.is_stop\n",
    "                and not token.is_punct\n",
    "                and not token.is_digit\n",
    "                and not token.like_email\n",
    "                and not token.like_num\n",
    "                and not token.is_space\n",
    "            )\n",
    "        )\n",
    "\n",
    "        self.X = self.data['cleaned_text']\n",
    "        self.y = self.data['label']\n",
    "\n",
    "    def split_data(self, test_size=0.2):\n",
    "        self.X_train, self.X_test, self.y_train, self.y_test = train_test_split(\n",
    "            self.X, self.y, test_size=test_size, random_state=self.random_state\n",
    "        )\n",
    "\n",
    "    def train_and_evaluate_models(self, vectorizer_type):\n",
    "        if vectorizer_type not in [\"CountVectorizer\", \"TfidfVectorizer\"]:\n",
    "            raise ValueError(\"Invalid vectorizer type. Use 'CountVectorizer' or 'TfidfVectorizer'.\")\n",
    "\n",
    "        if vectorizer_type == \"CountVectorizer\":\n",
    "            vectorizer = CountVectorizer()\n",
    "            param_grid = {\n",
    "                'vectorizer__max_df': np.linspace(0.3, 0.7, 10),\n",
    "                'vectorizer__min_df': [0.0, 0.001, 0.003, 0.005],\n",
    "                'vectorizer__ngram_range': ((1, 1), (1, 2))\n",
    "            }\n",
    "        elif vectorizer_type == \"TfidfVectorizer\":\n",
    "            vectorizer = TfidfVectorizer()\n",
    "            param_grid = {\n",
    "                \"vectorizer__norm\": (\"l1\", \"l2\"),\n",
    "            }\n",
    "        else:\n",
    "            raise ValueError(\"Invalid vectorizer.\")\n",
    "\n",
    "        pipelines = {\n",
    "            \"DecisionTree\": Pipeline([\n",
    "                ('vectorizer', vectorizer),\n",
    "                ('clf', DecisionTreeClassifier(random_state=self.random_state))\n",
    "            ]),\n",
    "            \"LogisticRegression\": Pipeline([\n",
    "                ('vectorizer', vectorizer),\n",
    "                ('clf', LogisticRegression(max_iter=1000, random_state=self.random_state))\n",
    "            ]),\n",
    "            \"NaiveBayes\": Pipeline([\n",
    "                ('vectorizer', vectorizer),\n",
    "                ('clf', MultinomialNB())\n",
    "            ])\n",
    "        }\n",
    "\n",
    "        results = []\n",
    "\n",
    "        for model_type, pipeline in pipelines.items():\n",
    "            result = {\"Model\": model_type, \"Vectorizer\": vectorizer_type}\n",
    "            param_grid_clf = param_grid.copy()\n",
    "\n",
    "            if model_type == \"DecisionTree\":\n",
    "                param_grid_clf.update({\n",
    "                    'clf__criterion': ['gini', 'entropy'],\n",
    "                    'clf__max_depth': [None, 10, 20, 30],\n",
    "                    'clf__min_samples_split': [2, 5, 10]\n",
    "                })\n",
    "            elif model_type == \"LogisticRegression\":\n",
    "                param_grid_clf.update({\n",
    "                    'clf__C': [0.001, 0.01, 0.1, 1, 10],\n",
    "                    'clf__penalty': ['l2']\n",
    "                })\n",
    "            elif model_type == \"NaiveBayes\":\n",
    "                param_grid_clf.update({\n",
    "                    'clf__alpha': [0.01, 0.1, 0.5, 1.0, 10.0]\n",
    "                })\n",
    "            else:\n",
    "                raise ValueError(\"Invalid model type.\")\n",
    "\n",
    "            grid_search = HalvingGridSearchCV(\n",
    "                estimator=pipeline,\n",
    "                param_grid=param_grid_clf,\n",
    "                cv=2,\n",
    "                n_jobs=-1,\n",
    "                scoring='accuracy',\n",
    "                random_state=self.random_state\n",
    "            )\n",
    "            grid_search.fit(self.X_train, self.y_train)\n",
    "\n",
    "            best_classifier = grid_search.best_estimator_\n",
    "\n",
    "            y_pred_test = best_classifier.predict(self.X_test)\n",
    "            accuracy_test = accuracy_score(self.y_test, y_pred_test)\n",
    "            result[\"Test accuracy\"] = accuracy_test\n",
    "\n",
    "            results.append(result)\n",
    "\n",
    "        return results"
   ],
   "metadata": {
    "collapsed": false,
    "ExecuteTime": {
     "end_time": "2023-09-23T17:14:42.040843400Z",
     "start_time": "2023-09-23T17:14:42.035673300Z"
    }
   },
   "id": "d0b8cd54bd665cef"
  },
  {
   "cell_type": "code",
   "execution_count": null,
   "outputs": [],
   "source": [
    "spam_classifier = SpamClassifier(data_path='spam_or_not_spam.csv', random_state=42)\n",
    "\n",
    "spam_classifier.preprocess_data()\n",
    "spam_classifier.split_data(test_size=0.2)\n",
    "\n",
    "vectorizer_types = [\"CountVectorizer\", \"TfidfVectorizer\"]\n",
    "evaluation_results = []\n",
    "\n",
    "for vectorizer_type in vectorizer_types:\n",
    "    results = spam_classifier.train_and_evaluate_models(vectorizer_type)\n",
    "    evaluation_results.extend(results)\n",
    "\n",
    "results_df = pd.DataFrame(evaluation_results)"
   ],
   "metadata": {
    "collapsed": false
   },
   "id": "1ed077a5fc7d2ccc"
  },
  {
   "cell_type": "code",
   "execution_count": 91,
   "outputs": [
    {
     "name": "stdout",
     "output_type": "stream",
     "text": [
      "                Model       Vectorizer  Test accuracy\n",
      "5          NaiveBayes  TfidfVectorizer       0.993333\n",
      "1  LogisticRegression  CountVectorizer       0.990000\n",
      "2          NaiveBayes  CountVectorizer       0.985000\n",
      "4  LogisticRegression  TfidfVectorizer       0.985000\n",
      "3        DecisionTree  TfidfVectorizer       0.953333\n",
      "0        DecisionTree  CountVectorizer       0.950000\n"
     ]
    }
   ],
   "source": [
    "print(results_df.sort_values(\"Test accuracy\", ascending=False))"
   ],
   "metadata": {
    "collapsed": false,
    "ExecuteTime": {
     "end_time": "2023-09-23T17:18:56.925526Z",
     "start_time": "2023-09-23T17:18:56.905006500Z"
    }
   },
   "id": "84179a1274bcc62f"
  },
  {
   "cell_type": "code",
   "execution_count": null,
   "outputs": [],
   "source": [],
   "metadata": {
    "collapsed": false
   },
   "id": "6c7b5b5980c4ac3e"
  }
 ],
 "metadata": {
  "kernelspec": {
   "display_name": "Python 3",
   "language": "python",
   "name": "python3"
  },
  "language_info": {
   "codemirror_mode": {
    "name": "ipython",
    "version": 2
   },
   "file_extension": ".py",
   "mimetype": "text/x-python",
   "name": "python",
   "nbconvert_exporter": "python",
   "pygments_lexer": "ipython2",
   "version": "2.7.6"
  }
 },
 "nbformat": 4,
 "nbformat_minor": 5
}
