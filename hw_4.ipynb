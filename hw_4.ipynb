{
 "cells": [
  {
   "cell_type": "code",
   "execution_count": 40,
   "id": "d5c4ccfbb8067a1e",
   "metadata": {
    "ExecuteTime": {
     "end_time": "2023-10-30T12:12:44.457195Z",
     "start_time": "2023-10-30T12:12:42.860235800Z"
    }
   },
   "outputs": [],
   "source": [
    "!pip install torch torchvision torchaudio torchtext --index-url https://download.pytorch.org/whl/cu118 -q"
   ]
  },
  {
   "cell_type": "code",
   "execution_count": 41,
   "id": "fd1bf2e689430d2c",
   "metadata": {
    "ExecuteTime": {
     "end_time": "2023-10-30T12:12:47.619205500Z",
     "start_time": "2023-10-30T12:12:44.917355200Z"
    }
   },
   "outputs": [],
   "source": [
    "!pip install pandas nltk scikit-learn -q"
   ]
  },
  {
   "cell_type": "code",
   "execution_count": 43,
   "id": "d526b547f144d3ea",
   "metadata": {
    "ExecuteTime": {
     "end_time": "2023-10-30T12:13:10.317679800Z",
     "start_time": "2023-10-30T12:13:03.647750900Z"
    }
   },
   "outputs": [
    {
     "name": "stdout",
     "output_type": "stream",
     "text": [
      "\u001B[38;5;2m✔ Download and installation successful\u001B[0m\r\n",
      "You can now load the package via spacy.load('en_core_web_sm')\r\n"
     ]
    }
   ],
   "source": [
    "import pandas as pd\n",
    "import spacy\n",
    "import torch\n",
    "import torch.nn.functional as F\n",
    "from sklearn.model_selection import train_test_split\n",
    "from tensorflow.keras.preprocessing.sequence import pad_sequences\n",
    "from tensorflow.keras.preprocessing.text import Tokenizer\n",
    "from torch import nn\n",
    "from torch.utils.data import Dataset, DataLoader\n",
    "from tqdm import tqdm"
   ]
  },
  {
   "cell_type": "code",
   "execution_count": 44,
   "id": "c6c877a75bcdeb21",
   "metadata": {
    "ExecuteTime": {
     "end_time": "2023-10-30T12:13:15.518045400Z",
     "start_time": "2023-10-30T12:13:15.465672Z"
    }
   },
   "outputs": [],
   "source": [
    "true = pd.read_csv('True.csv')\n",
    "fake = pd.read_csv('Fake.csv')\n",
    "\n",
    "fake[\"is_fake\"] = 1\n",
    "true[\"is_fake\"] = 0\n",
    "\n",
    "df = pd.concat([true, fake])\n",
    "del fake, true\n",
    "\n",
    "df.shape"
   ]
  },
  {
   "cell_type": "code",
   "execution_count": 2,
   "id": "479b5fc84b231226",
   "metadata": {
    "ExecuteTime": {
     "end_time": "2023-10-30T11:59:33.621102800Z",
     "start_time": "2023-10-30T11:59:31.726159700Z"
    }
   },
   "outputs": [
    {
     "data": {
      "text/plain": [
       "(44898, 5)"
      ]
     },
     "execution_count": 2,
     "metadata": {},
     "output_type": "execute_result"
    }
   ],
   "source": [
    "device = torch.device('cuda' if torch.cuda.is_available() else 'cpu')\n",
    "\n",
    "NUM_WORDS = 10000\n",
    "SENTENCE_LENGTH = 100\n",
    "EMBED_DIM = 1000\n",
    "random_state = 42\n",
    "\n",
    "nlp = spacy.load(\"en_core_web_sm\")\n",
    "\n",
    "tqdm.pandas()\n",
    "\n",
    "\n",
    "def preprocess_text(text):\n",
    "    return text.progress_apply(\n",
    "        lambda x: \" \".join(\n",
    "            token.lemma_.lower() for token in nlp(x) if\n",
    "            not token.is_stop\n",
    "            and not token.is_punct\n",
    "            and not token.is_digit\n",
    "            and not token.like_email\n",
    "            and not token.like_num\n",
    "            and not token.is_space\n",
    "        )\n",
    "    )"
   ]
  },
  {
   "cell_type": "code",
   "execution_count": null,
   "id": "733662037d403590",
   "metadata": {},
   "outputs": [],
   "source": [
    "%%time\n",
    "df['cleaned_text'] = df['title'] + \" \" + df['text']\n",
    "df['cleaned_text'] = preprocess_text(df['cleaned_text'])"
   ]
  },
  {
   "cell_type": "code",
   "execution_count": null,
   "id": "259949b64fab75b8",
   "metadata": {},
   "outputs": [],
   "source": [
    "X_train, X_test, y_train, y_test = train_test_split(df['cleaned_text'], df['is_fake'], test_size=0.2,\n",
    "                                                    random_state=random_state)"
   ]
  },
  {
   "cell_type": "code",
   "execution_count": 5,
   "id": "4b3be3b96ebababe",
   "metadata": {
    "ExecuteTime": {
     "end_time": "2023-10-30T11:59:37.196546500Z",
     "start_time": "2023-10-30T11:59:34.150246600Z"
    }
   },
   "outputs": [],
   "source": [
    "tokenizer = Tokenizer(num_words=NUM_WORDS)\n",
    "tokenizer.fit_on_texts(df['cleaned_text'])\n",
    "train_seq = tokenizer.texts_to_sequences(X_train)\n",
    "test_seq = tokenizer.texts_to_sequences(X_test)\n",
    "x_train = pad_sequences(train_seq, maxlen=SENTENCE_LENGTH)\n",
    "x_test = pad_sequences(test_seq, maxlen=SENTENCE_LENGTH)"
   ]
  },
  {
   "cell_type": "code",
   "execution_count": 26,
   "id": "40df0a0b83eb4877",
   "metadata": {
    "ExecuteTime": {
     "end_time": "2023-10-30T11:59:37.208519400Z",
     "start_time": "2023-10-30T11:59:37.206394600Z"
    }
   },
   "outputs": [],
   "source": [
    "class SpamDataset(Dataset):\n",
    "    def __init__(self, data, label):\n",
    "        self.data = torch.tensor(data).to(torch.int64)\n",
    "        self.label = label\n",
    "\n",
    "    def __getitem__(self, index):\n",
    "        data = self.data[index]\n",
    "        label = self.label[index]\n",
    "        return data, label\n",
    "\n",
    "    def __len__(self):\n",
    "        return len(self.data)\n",
    "\n",
    "\n",
    "batch_size = 256\n",
    "torch.manual_seed(random_state)\n",
    "train_dataset = SpamDataset(x_train, y_train.to_numpy())\n",
    "test_dataset = SpamDataset(x_test, y_test.to_numpy())\n",
    "train_dataloader = DataLoader(train_dataset, batch_size=batch_size, shuffle=True)\n",
    "test_dataloader = DataLoader(test_dataset, batch_size=batch_size, shuffle=False)"
   ]
  },
  {
   "cell_type": "code",
   "execution_count": 27,
   "id": "fdff1ed0c2c18a44",
   "metadata": {
    "ExecuteTime": {
     "end_time": "2023-10-30T11:59:37.230523200Z",
     "start_time": "2023-10-30T11:59:37.209523400Z"
    }
   },
   "outputs": [],
   "source": [
    "class CNN(nn.Module):\n",
    "    def __init__(self, embed_dim):\n",
    "        super(CNN, self).__init__()\n",
    "        self.embed = nn.Embedding(NUM_WORDS, embed_dim)\n",
    "        self.conv1 = nn.Conv2d(1, 1, 3)\n",
    "        self.conv2 = nn.Conv2d(1, 1, 3)\n",
    "        self.conv3 = nn.Conv2d(1, 1, 3)\n",
    "        self.fc = nn.Linear(93436, 2)\n",
    "\n",
    "    def forward(self, x):\n",
    "        out = self.embed(x)\n",
    "        out = out.unsqueeze(1)\n",
    "        out = F.relu(self.conv1(out))\n",
    "        out = F.relu(self.conv2(out))\n",
    "        out = F.relu(self.conv3(out))\n",
    "        out = out.view(out.size()[0], -1)\n",
    "        out = self.fc(out)\n",
    "        return out"
   ]
  },
  {
   "cell_type": "code",
   "execution_count": 28,
   "id": "88b0ac0d25d89018",
   "metadata": {
    "ExecuteTime": {
     "end_time": "2023-10-30T11:59:43.255012100Z",
     "start_time": "2023-10-30T11:59:37.258689200Z"
    }
   },
   "outputs": [],
   "source": [
    "class LSTM(nn.Module):\n",
    "    def __init__(self, vocab_size, embedding_dim, hidden_dim, n_layers, seq_len):\n",
    "        super(LSTM, self).__init__()\n",
    "        self.embedding = nn.Embedding(vocab_size, embedding_dim)\n",
    "        self.lstm = nn.LSTM(input_size=embedding_dim, hidden_size=hidden_dim, num_layers=n_layers, batch_first=True)\n",
    "        self.fc = nn.Linear(seq_len * hidden_dim, 2)\n",
    "\n",
    "    def forward(self, x):\n",
    "        x = self.embedding(x)\n",
    "        x, _ = self.lstm(x)\n",
    "        x = torch.reshape(x, (x.size(0), -1,))\n",
    "        x = self.fc(x)\n",
    "        return F.softmax(x, dim=-1)"
   ]
  },
  {
   "cell_type": "code",
   "execution_count": 45,
   "id": "1ff5c6f434481e5c",
   "metadata": {
    "ExecuteTime": {
     "end_time": "2023-10-30T12:13:40.446399600Z",
     "start_time": "2023-10-30T12:13:40.442404300Z"
    }
   },
   "outputs": [],
   "source": [
    "class Trainer:\n",
    "    def __init__(self, model, epochs, train_dataloader, test_dataloader, device, criterion, optimizer):\n",
    "        self.optimizer = optimizer\n",
    "        self.criterion = criterion\n",
    "        self.device = device\n",
    "        self.test_dataloader = test_dataloader\n",
    "        self.train_dataloader = train_dataloader\n",
    "        self.model = model\n",
    "        self.epochs = epochs\n",
    "\n",
    "    def train(self):\n",
    "        for epoch in range(self.epochs):\n",
    "            self.model.train()\n",
    "            running_loss = 0\n",
    "            correct_predictions = 0\n",
    "            total = 0\n",
    "            for i, (inputs, targets) in enumerate(tqdm(self.train_dataloader)):\n",
    "                inputs, targets = inputs.to(device), targets.to(device)\n",
    "                self.optimizer.zero_grad()\n",
    "\n",
    "                outputs = self.model(inputs)\n",
    "                loss = self.criterion(outputs, targets.long())\n",
    "                loss.backward()\n",
    "\n",
    "                self.optimizer.step()\n",
    "\n",
    "                running_loss += loss.item()\n",
    "                _, predicted = torch.max(outputs, 1)\n",
    "                total += targets.size(0)\n",
    "                correct_predictions += (predicted == targets).sum().item()\n",
    "\n",
    "            train_loss = running_loss / len(train_dataloader)\n",
    "            train_accuracy = correct_predictions / total\n",
    "            print(f'Epoch: {epoch + 1}/{self.epochs}, Loss: {train_loss:.6f}, Train accuracy: {train_accuracy:.6f}')\n",
    "\n",
    "    def evaluate(self):\n",
    "        self.model.eval()\n",
    "        val_loss = 0\n",
    "        correct_predictions = 0\n",
    "\n",
    "        with torch.no_grad():\n",
    "            for inputs, targets in self.test_dataloader:\n",
    "                inputs, targets = inputs.to(self.device), targets.to(self.device)\n",
    "                outputs = self.model(inputs)\n",
    "                loss = self.criterion(outputs, targets.long())\n",
    "                val_loss += loss.item()\n",
    "                _, predicted = torch.max(outputs, 1)\n",
    "                correct_predictions += (predicted == targets).sum().item()\n",
    "\n",
    "        val_loss /= len(self.test_dataloader)\n",
    "        val_accuracy = correct_predictions / len(test_dataset)\n",
    "\n",
    "        print(f'Validation loss: {val_loss:.6f}, Validation accuracy: {val_accuracy:.3f}\\n')"
   ]
  },
  {
   "cell_type": "code",
   "execution_count": 46,
   "id": "8c6869de049e549b",
   "metadata": {
    "ExecuteTime": {
     "end_time": "2023-10-30T12:13:41.921137600Z",
     "start_time": "2023-10-30T12:13:41.870807300Z"
    }
   },
   "outputs": [],
   "source": [
    "CNN_model = CNN(EMBED_DIM).to(device)\n",
    "CNN_optimizer = torch.optim.Adam(CNN_model.parameters(), lr=0.001)\n",
    "CNN_criterion = nn.CrossEntropyLoss()"
   ]
  },
  {
   "cell_type": "code",
   "execution_count": 53,
   "id": "485cc1c8e5a5323c",
   "metadata": {
    "ExecuteTime": {
     "end_time": "2023-10-30T12:14:34.830050500Z",
     "start_time": "2023-10-30T12:14:34.755395200Z"
    }
   },
   "outputs": [],
   "source": [
    "CNN_trainer = Trainer(CNN_model, 5, train_dataloader, test_dataloader, device, CNN_criterion, CNN_optimizer)"
   ]
  },
  {
   "cell_type": "code",
   "execution_count": 54,
   "id": "f8b488bdd222f85b",
   "metadata": {
    "ExecuteTime": {
     "end_time": "2023-10-30T12:14:35.255283300Z",
     "start_time": "2023-10-30T12:14:35.248725200Z"
    }
   },
   "outputs": [],
   "source": [
    "CNN_trainer.train()"
   ]
  },
  {
   "cell_type": "code",
   "execution_count": 55,
   "id": "bcba9d3eafb2cf40",
   "metadata": {
    "ExecuteTime": {
     "end_time": "2023-10-30T12:15:22.845729400Z",
     "start_time": "2023-10-30T12:14:35.800549500Z"
    }
   },
   "outputs": [
    {
     "name": "stderr",
     "output_type": "stream",
     "text": [
      "100%|██████████| 141/141 [00:09<00:00, 14.80it/s]\n"
     ]
    },
    {
     "name": "stdout",
     "output_type": "stream",
     "text": [
      "Epoch: 1/5, Loss: 0.925183, Train accuracy: 0.614038\n"
     ]
    },
    {
     "name": "stderr",
     "output_type": "stream",
     "text": [
      "100%|██████████| 141/141 [00:09<00:00, 15.13it/s]\n"
     ]
    },
    {
     "name": "stdout",
     "output_type": "stream",
     "text": [
      "Epoch: 2/5, Loss: 0.238966, Train accuracy: 0.930759\n"
     ]
    },
    {
     "name": "stderr",
     "output_type": "stream",
     "text": [
      "100%|██████████| 141/141 [00:09<00:00, 15.05it/s]\n"
     ]
    },
    {
     "name": "stdout",
     "output_type": "stream",
     "text": [
      "Epoch: 3/5, Loss: 0.066092, Train accuracy: 0.980261\n"
     ]
    },
    {
     "name": "stderr",
     "output_type": "stream",
     "text": [
      "100%|██████████| 141/141 [00:09<00:00, 14.96it/s]\n"
     ]
    },
    {
     "name": "stdout",
     "output_type": "stream",
     "text": [
      "Epoch: 4/5, Loss: 0.025205, Train accuracy: 0.994961\n"
     ]
    },
    {
     "name": "stderr",
     "output_type": "stream",
     "text": [
      "100%|██████████| 141/141 [00:09<00:00, 15.02it/s]"
     ]
    },
    {
     "name": "stdout",
     "output_type": "stream",
     "text": [
      "Epoch: 5/5, Loss: 0.008559, Train accuracy: 0.999248\n"
     ]
    },
    {
     "name": "stderr",
     "output_type": "stream",
     "text": [
      "\n"
     ]
    }
   ],
   "source": [
    "CNN_trainer.evaluate()"
   ]
  },
  {
   "cell_type": "code",
   "execution_count": 56,
   "id": "636f9382b19109da",
   "metadata": {
    "ExecuteTime": {
     "end_time": "2023-10-30T12:15:23.130579700Z",
     "start_time": "2023-10-30T12:15:22.845729400Z"
    }
   },
   "outputs": [
    {
     "name": "stdout",
     "output_type": "stream",
     "text": [
      "Validation loss: 0.059426, Validation accuracy: 0.980\n"
     ]
    }
   ],
   "source": [
    "LSTM_model = LSTM(vocab_size=NUM_WORDS, embedding_dim=EMBED_DIM, hidden_dim=100, n_layers=3,\n",
    "                  seq_len=SENTENCE_LENGTH).to(device)\n",
    "LSTM_optimizer = torch.optim.Adam(LSTM_model.parameters(), lr=0.001)\n",
    "LSTM_criterion = nn.CrossEntropyLoss()"
   ]
  },
  {
   "cell_type": "code",
   "execution_count": 57,
   "id": "2f2f785fd6f39615",
   "metadata": {
    "ExecuteTime": {
     "end_time": "2023-10-30T12:15:25.188072300Z",
     "start_time": "2023-10-30T12:15:25.125051100Z"
    }
   },
   "outputs": [],
   "source": [
    "LSTM_trainer = Trainer(LSTM_model, 2, train_dataloader, test_dataloader, device, LSTM_criterion, LSTM_optimizer)"
   ]
  },
  {
   "cell_type": "code",
   "execution_count": 58,
   "id": "8fd81cb422cd7f40",
   "metadata": {
    "ExecuteTime": {
     "end_time": "2023-10-30T12:15:25.596533500Z",
     "start_time": "2023-10-30T12:15:25.589136200Z"
    }
   },
   "outputs": [],
   "source": [
    "LSTM_trainer.train()"
   ]
  },
  {
   "cell_type": "code",
   "execution_count": 59,
   "id": "734709f28314625f",
   "metadata": {
    "ExecuteTime": {
     "end_time": "2023-10-30T12:15:33.463064800Z",
     "start_time": "2023-10-30T12:15:25.935171700Z"
    }
   },
   "outputs": [
    {
     "name": "stderr",
     "output_type": "stream",
     "text": [
      "100%|██████████| 141/141 [00:03<00:00, 36.41it/s]\n"
     ]
    },
    {
     "name": "stdout",
     "output_type": "stream",
     "text": [
      "Epoch: 1/2, Loss: 0.158328, Train accuracy: 0.925636\n"
     ]
    },
    {
     "name": "stderr",
     "output_type": "stream",
     "text": [
      "100%|██████████| 141/141 [00:03<00:00, 38.70it/s]"
     ]
    },
    {
     "name": "stdout",
     "output_type": "stream",
     "text": [
      "Epoch: 2/2, Loss: 0.022552, Train accuracy: 0.993346\n"
     ]
    },
    {
     "name": "stderr",
     "output_type": "stream",
     "text": [
      "\n"
     ]
    }
   ],
   "source": [
    "LSTM_trainer.evaluate()"
   ]
  },
  {
   "cell_type": "code",
   "execution_count": 60,
   "id": "eb9f6c6420c41c4",
   "metadata": {
    "ExecuteTime": {
     "end_time": "2023-10-30T12:15:33.784378700Z",
     "start_time": "2023-10-30T12:15:33.458994500Z"
    }
   },
   "outputs": [
    {
     "name": "stdout",
     "output_type": "stream",
     "text": [
      "Validation loss: 0.045237, Validation accuracy: 0.986\n"
     ]
    }
   ],
   "source": []
  }
 ],
 "metadata": {
  "kernelspec": {
   "display_name": "Python 3 (ipykernel)",
   "language": "python",
   "name": "python3"
  },
  "language_info": {
   "codemirror_mode": {
    "name": "ipython",
    "version": 3
   },
   "file_extension": ".py",
   "mimetype": "text/x-python",
   "name": "python",
   "nbconvert_exporter": "python",
   "pygments_lexer": "ipython3",
   "version": "3.11.4"
  }
 },
 "nbformat": 4,
 "nbformat_minor": 5
}
